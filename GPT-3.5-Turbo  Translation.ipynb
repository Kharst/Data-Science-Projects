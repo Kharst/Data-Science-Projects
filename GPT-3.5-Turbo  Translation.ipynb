{
 "cells": [
  {
   "cell_type": "code",
   "execution_count": 2,
   "id": "41df0348",
   "metadata": {
    "height": 149,
    "tags": []
   },
   "outputs": [],
   "source": [
    "import openai\n",
    "\n",
    "\n",
    "openai.api_key  = \"\""
   ]
  },
  {
   "cell_type": "code",
   "execution_count": 3,
   "id": "6a85ee0f",
   "metadata": {
    "height": 166,
    "tags": []
   },
   "outputs": [],
   "source": [
    "def get_completion(prompt, model=\"gpt-3.5-turbo\", temperature=0): \n",
    "    messages = [{\"role\": \"user\", \"content\": prompt}]\n",
    "    response = openai.ChatCompletion.create(\n",
    "        model=model,\n",
    "        messages=messages,\n",
    "        temperature=temperature, \n",
    "    )\n",
    "    return response.choices[0].message[\"content\"]"
   ]
  },
  {
   "cell_type": "code",
   "execution_count": 4,
   "id": "9c4df6ff",
   "metadata": {
    "height": 115,
    "tags": []
   },
   "outputs": [
    {
     "name": "stdout",
     "output_type": "stream",
     "text": [
      "Le vendite sono un aspetto critico di qualsiasi attività commerciale che coinvolge lo scambio di beni o servizi per denaro. È un'attività essenziale che determina la redditività di un'organizzazione. Un team di vendita è responsabile dell'individuazione dei potenziali clienti, della costruzione di relazioni con loro e della convinzione ad acquistare i prodotti o servizi dell'azienda. Le strategie di vendita efficaci implicano la comprensione delle esigenze dei clienti, la messa in evidenza dei vantaggi unici dei prodotti o servizi venduti e la risoluzione di eventuali preoccupazioni o obiezioni che possono avere. I venditori di successo possiedono eccellenti capacità di comunicazione e relazionali, sono persistenti, sicuri di sé e resilienti di fronte al rifiuto. Nell'era digitale di oggi, le vendite si sono evolute includendo canali online come l'e-commerce e i social media, rendendo ancora più importante per le aziende avere una forte presenza online.\n"
     ]
    }
   ],
   "source": [
    "#Converting an English text to Italian\n",
    "\n",
    "prompt = f\"\"\"\n",
    "Translate the following English text to Italian: \\ \n",
    "```\n",
    "Sales is a critical aspect of any business that involves the exchange of goods or services for money. It is an essential activity that determines the profitability of an organization. A sales team is responsible for identifying potential customers, building relationships with them, and convincing them to purchase the company's products or services. Effective sales strategies involve understanding the needs of customers, highlighting the unique benefits of the products or services being sold, and addressing any concerns or objections they may have. Successful salespeople possess excellent communication and interpersonal skills, and they are persistent, confident, and resilient in the face of rejection. In today's digital age, sales have evolved to include online channels such as e-commerce and social media, making it even more important for businesses to have a strong online presence.```\n",
    "\"\"\"\n",
    "response = get_completion(prompt)\n",
    "print(response)"
   ]
  },
  {
   "cell_type": "code",
   "execution_count": 7,
   "id": "7300ed9b",
   "metadata": {
    "height": 115,
    "tags": []
   },
   "outputs": [
    {
     "name": "stdout",
     "output_type": "stream",
     "text": [
      "- French: \"Bonjour!\"\n",
      "- Spanish: \"¿Cómo estás?\"\n",
      "- English: \"I'm doing well,\"\n",
      "- German: \"danke schön.\"\n",
      "- Japanese: \"libro interesante\"\n",
      "- Spanish: \"tapas and cerveza later!\"\n"
     ]
    }
   ],
   "source": [
    "# A text has multiple language. The desire is to identify the languages used\n",
    "\n",
    "prompt = f\"\"\"\n",
    "Identify the different languages used is:\n",
    "\n",
    "```Bonjour! ¿Cómo estás? I'm doing well, /\n",
    "danke schön. Just finished reading a /\n",
    "libro interesante in Japanese. Let's \n",
    "grab some tapas and cerveza later!?```\n",
    "In point format write the different language/\n",
    "and text that associate with them\n",
    "\"\"\"\n",
    "\n",
    "response = get_completion(prompt)\n",
    "print(response)"
   ]
  },
  {
   "cell_type": "code",
   "execution_count": 8,
   "id": "68a40bf0",
   "metadata": {
    "height": 149,
    "tags": []
   },
   "outputs": [],
   "source": [
    "#Messages are received from different parts of the world and the goal is to identify the languages and translate them to English\n",
    "\n",
    "customer_messages = [\n",
    "\"La venta es la sangre vital de cualquier negocio exitoso.\"\n",
    "\"Les ventes sont le cœur battant de toute entreprise prospère.\"\n",
    "\" Verkäufe sind das Lebensblut jedes erfolgreichen Geschäfts.\"\n",
    "\"销售是任何成功企业的命脉。\"\n",
    "\"المبيعات هي الدم الحيوي لأي عمل ناجح.\"\n",
    "\"Продажи - это жизненно важный элемент любого успешного бизнеса.\"\n",
    "\"As vendas são o sangue vital de qualquer negócio bem-sucedido.\"\n",
    "] "
   ]
  },
  {
   "cell_type": "code",
   "execution_count": 9,
   "id": "552d0db9",
   "metadata": {
    "height": 217,
    "tags": []
   },
   "outputs": [
    {
     "name": "stdout",
     "output_type": "stream",
     "text": [
      "- Spanish: The sale is the vital blood of any successful business.\n",
      "- French: Sales are the beating heart of any prosperous business.\n",
      "- German: Sales are the lifeblood of every successful business.\n",
      "- Chinese: Sales are the lifeblood of any successful enterprise.\n",
      "- Arabic: Sales are the vital blood of any successful business.\n",
      "- Russian: Sales are a vital element of any successful business.\n",
      "- Portuguese: Sales are the vital blood of any successful business. \n",
      "\n"
     ]
    }
   ],
   "source": [
    " # I only want to see the languages in English in this case   \n",
    "    \n",
    "\n",
    "for statement in customer_messages:\n",
    "    prompt = f\"\"\" detect the language used and covert the sentence to English. ```{statement}```\"\n",
    "     steps: write he name of the language:translate the language accurately\n",
    "     The languages are all coverted to English.Write in point form\n",
    "    only show translated language\n",
    "    \"\"\"\n",
    "   \n",
    "    lang = get_completion(prompt)\n",
    "   \n",
    "    response = get_completion(prompt)\n",
    "    print(response, \"\\n\")\n",
    "\n",
    "        "
   ]
  },
  {
   "cell_type": "code",
   "execution_count": 11,
   "id": "fa57158f-d77d-42d1-94fe-17fa59c012f8",
   "metadata": {
    "height": 207
   },
   "outputs": [
    {
     "name": "stdout",
     "output_type": "stream",
     "text": [
      "Estimado/a Comunidad,\n",
      "\n",
      "Me complace compartir que estamos encantados con las traducciones de Reuben Siwela. Su habilidad para transmitir el mensaje original en español es impresionante y ha sido de gran ayuda para nuestra empresa. Recomendamos encarecidamente sus servicios de traducción a cualquier persona que busque una traducción precisa y de alta calidad.\n",
      "\n",
      "Saludos cordiales,\n",
      "\n",
      "[Su nombre]\n"
     ]
    }
   ],
   "source": [
    "#I have an idea of what I would like to say in Spanish but my knowledge of the language is limited. I will just give an idea.\n",
    "\n",
    "message = \"We love Reuben Siwela's translations\"\n",
    "\n",
    "prompt = f\"\"\"write a professional linkedIn message stating  ```{message}```\"\n",
    "from Community \n",
    "let the language be Spanish\n",
    "\"\"\"\n",
    "\n",
    "response = get_completion(prompt)\n",
    "\n",
    "print(response)"
   ]
  },
  {
   "cell_type": "code",
   "execution_count": null,
   "id": "a2b2ca58",
   "metadata": {
    "height": 30
   },
   "outputs": [],
   "source": []
  }
 ],
 "metadata": {
  "kernelspec": {
   "display_name": "Python 3 (ipykernel)",
   "language": "python",
   "name": "python3"
  },
  "language_info": {
   "codemirror_mode": {
    "name": "ipython",
    "version": 3
   },
   "file_extension": ".py",
   "mimetype": "text/x-python",
   "name": "python",
   "nbconvert_exporter": "python",
   "pygments_lexer": "ipython3",
   "version": "3.10.9"
  }
 },
 "nbformat": 4,
 "nbformat_minor": 5
}
